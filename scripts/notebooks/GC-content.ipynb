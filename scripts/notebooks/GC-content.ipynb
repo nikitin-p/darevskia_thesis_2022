{
 "cells": [
  {
   "cell_type": "code",
   "execution_count": 1,
   "metadata": {},
   "outputs": [],
   "source": [
    "from Bio import SeqIO, SeqUtils\n",
    "from Bio.SeqUtils import GC\n",
    "import numpy as np\n",
    "import pandas as pd\n",
    "import seaborn as sns\n",
    "import matplotlib.pyplot as plt"
   ]
  },
  {
   "cell_type": "code",
   "execution_count": 5,
   "metadata": {},
   "outputs": [
    {
     "data": {
      "text/html": [
       "<div>\n",
       "<style scoped>\n",
       "    .dataframe tbody tr th:only-of-type {\n",
       "        vertical-align: middle;\n",
       "    }\n",
       "\n",
       "    .dataframe tbody tr th {\n",
       "        vertical-align: top;\n",
       "    }\n",
       "\n",
       "    .dataframe thead th {\n",
       "        text-align: right;\n",
       "    }\n",
       "</style>\n",
       "<table border=\"1\" class=\"dataframe\">\n",
       "  <thead>\n",
       "    <tr style=\"text-align: right;\">\n",
       "      <th></th>\n",
       "      <th>Sequence_ID</th>\n",
       "      <th>GC_Content</th>\n",
       "    </tr>\n",
       "  </thead>\n",
       "  <tbody>\n",
       "    <tr>\n",
       "      <th>0</th>\n",
       "      <td>CL1Contig1</td>\n",
       "      <td>40.52</td>\n",
       "    </tr>\n",
       "    <tr>\n",
       "      <th>1</th>\n",
       "      <td>CL1Contig2</td>\n",
       "      <td>45.31</td>\n",
       "    </tr>\n",
       "  </tbody>\n",
       "</table>\n",
       "</div>"
      ],
      "text/plain": [
       "  Sequence_ID  GC_Content\n",
       "0  CL1Contig1       40.52\n",
       "1  CL1Contig2       45.31"
      ]
     },
     "execution_count": 5,
     "metadata": {},
     "output_type": "execute_result"
    }
   ],
   "source": [
    "df.head(2)"
   ]
  },
  {
   "cell_type": "code",
   "execution_count": 28,
   "metadata": {},
   "outputs": [
    {
     "data": {
      "image/png": "[encoded data removed]",
      "text/plain": [
       "<Figure size 432x288 with 1 Axes>"
      ]
     },
     "metadata": {
      "needs_background": "light"
     },
     "output_type": "display_data"
    }
   ],
   "source": [
    "filepath='contigs_N.fasta'\n",
    "seq_objects=SeqIO.parse(filepath,'fasta')\n",
    "sequences=[seq for seq in seq_objects]\n",
    "number_of_sequences=len(sequences)\n",
    "\n",
    "seq_ids=[]\n",
    "gc_contents=[]\n",
    "\n",
    "for seq in sequences:\n",
    "    seq_id=seq.id\n",
    "    sequence=seq.seq\n",
    "    gc_content=GC(sequence)\n",
    "    gc_content=round(gc_content,2)\n",
    "    \n",
    "    seq_ids.append(seq_id)\n",
    "    gc_contents.append(gc_content)\n",
    "    \n",
    "df=pd.DataFrame()\n",
    "df['Sequence_ID']=seq_ids\n",
    "df['GC_Content']=gc_contents\n",
    "\n",
    "ax = df.GC_Content.hist(bins=100, color='#E31B1B', range=(0, 100))\n",
    "ax.spines['top'].set_visible(False)\n",
    "ax.spines['right'].set_visible(False)\n",
    "ax.grid(False)\n",
    "ax.set_xticks([0, 10, 20, 30, 40, 50, 60, 70, 80, 90, 100])\n",
    "ax.axvline(x=43, color=\"black\")\n",
    "#plt.rc('xtick', labelsize=5) \n",
    "#plt.rc('ytick', labelsize=5) \n",
    "#plt.set_size_inches(8, 6)\n",
    "#plt.savefig('N_cont.png', dpi=200)"
   ]
  },
  {
   "cell_type": "code",
   "execution_count": 30,
   "metadata": {},
   "outputs": [
    {
     "data": {
      "image/png": "[encoded data removed]",
      "text/plain": [
       "<Figure size 432x288 with 1 Axes>"
      ]
     },
     "metadata": {
      "needs_background": "light"
     },
     "output_type": "display_data"
    }
   ],
   "source": [
    "filepath='contigs_V.fasta'\n",
    "seq_objects=SeqIO.parse(filepath,'fasta')\n",
    "sequences=[seq for seq in seq_objects]\n",
    "number_of_sequences=len(sequences)\n",
    "\n",
    "seq_ids=[]\n",
    "gc_contents=[]\n",
    "\n",
    "for seq in sequences:\n",
    "    seq_id=seq.id\n",
    "    sequence=seq.seq\n",
    "    gc_content=GC(sequence)\n",
    "    gc_content=round(gc_content,2)\n",
    "    \n",
    "    seq_ids.append(seq_id)\n",
    "    gc_contents.append(gc_content)\n",
    "    \n",
    "df=pd.DataFrame()\n",
    "df['Sequence_ID']=seq_ids\n",
    "df['GC_Content']=gc_contents\n",
    "\n",
    "ax = df.GC_Content.hist(bins=100, color='#5A9B43', range=(0, 100))\n",
    "ax.spines['top'].set_visible(False)\n",
    "ax.spines['right'].set_visible(False)\n",
    "ax.grid(False)\n",
    "extraticks=[57]\n",
    "ax.set_xticks([0, 10, 20, 30, 40, 50, 60, 70, 80, 90, 100])\n",
    "ax.axvline(x=56, color=\"black\")\n",
    "#plt.rc('xtick', labelsize=5) \n",
    "#plt.rc('ytick', labelsize=5) \n",
    "#ax.axvline(x=43, color=\"black\")\n",
    "#plt.savefig('V_cont.png', dpi=200)"
   ]
  },
  {
   "cell_type": "code",
   "execution_count": 21,
   "metadata": {},
   "outputs": [
    {
     "data": {
      "image/png": "[encoded data removed]",
      "text/plain": [
       "<Figure size 432x288 with 1 Axes>"
      ]
     },
     "metadata": {
      "needs_background": "light"
     },
     "output_type": "display_data"
    }
   ],
   "source": [
    "filepath='N_top10_seq.fasta'\n",
    "seq_objects=SeqIO.parse(filepath,'fasta')\n",
    "sequences=[seq for seq in seq_objects]\n",
    "number_of_sequences=len(sequences)\n",
    "\n",
    "seq_ids=[]\n",
    "gc_contents=[]\n",
    "\n",
    "for seq in sequences:\n",
    "    seq_id=seq.id\n",
    "    sequence=seq.seq\n",
    "    gc_content=GC(sequence)\n",
    "    gc_content=round(gc_content,2)\n",
    "    \n",
    "    seq_ids.append(seq_id)\n",
    "    gc_contents.append(gc_content)\n",
    "    \n",
    "df=pd.DataFrame()\n",
    "df['Sequence_ID']=seq_ids\n",
    "df['GC_Content']=gc_contents\n",
    "\n",
    "ax = df.GC_Content.hist(bins=100, color='#E31B1B', range=(0, 100))\n",
    "ax.spines['top'].set_visible(False)\n",
    "ax.spines['right'].set_visible(False)\n",
    "ax.grid(False)\n",
    "ax.set_xticks([0, 10, 20, 30, 40, 43, 50, 60, 70, 80, 90, 100])\n",
    "ax.axvline(x=43, color=\"black\")\n",
    "#plt.savefig('N_repeats.png', dpi=200)"
   ]
  },
  {
   "cell_type": "code",
   "execution_count": 22,
   "metadata": {},
   "outputs": [
    {
     "data": {
      "image/png": "[encoded data removed]",
      "text/plain": [
       "<Figure size 432x288 with 1 Axes>"
      ]
     },
     "metadata": {
      "needs_background": "light"
     },
     "output_type": "display_data"
    }
   ],
   "source": [
    "filepath='V_top10_seq.fasta'\n",
    "seq_objects=SeqIO.parse(filepath,'fasta')\n",
    "sequences=[seq for seq in seq_objects]\n",
    "number_of_sequences=len(sequences)\n",
    "\n",
    "seq_ids=[]\n",
    "gc_contents=[]\n",
    "\n",
    "for seq in sequences:\n",
    "    seq_id=seq.id\n",
    "    sequence=seq.seq\n",
    "    gc_content=GC(sequence)\n",
    "    gc_content=round(gc_content,2)\n",
    "    \n",
    "    seq_ids.append(seq_id)\n",
    "    gc_contents.append(gc_content)\n",
    "    \n",
    "df=pd.DataFrame()\n",
    "df['Sequence_ID']=seq_ids\n",
    "df['GC_Content']=gc_contents\n",
    "\n",
    "ax = df.GC_Content.hist(bins=100, color='#5A9B43', range=(0, 100))\n",
    "ax.spines['top'].set_visible(False)\n",
    "ax.spines['right'].set_visible(False)\n",
    "ax.grid(False)\n",
    "extraticks=[57]\n",
    "ax.set_xticks([0, 10, 20, 30, 40, 50, 56, 60, 70, 80, 90, 100])\n",
    "ax.axvline(x=56, color=\"black\")\n",
    "#plt.savefig('V_repeats.png', dpi=200)"
   ]
  },
  {
   "cell_type": "code",
   "execution_count": 34,
   "metadata": {},
   "outputs": [
    {
     "data": {
      "text/plain": [
       "<matplotlib.axes._subplots.AxesSubplot at 0x1a1b603080>"
      ]
     },
     "execution_count": 34,
     "metadata": {},
     "output_type": "execute_result"
    },
    {
     "data": {
      "image/png": "[encoded data removed]",
      "text/plain": [
       "<Figure size 432x288 with 1 Axes>"
      ]
     },
     "metadata": {
      "needs_background": "light"
     },
     "output_type": "display_data"
    }
   ],
   "source": [
    "filepath='contigs_N_top10pc_seq.fasta'\n",
    "seq_objects=SeqIO.parse(filepath,'fasta')\n",
    "sequences=[seq for seq in seq_objects]\n",
    "number_of_sequences=len(sequences)\n",
    "\n",
    "seq_ids=[]\n",
    "gc_contents=[]\n",
    "\n",
    "for seq in sequences:\n",
    "    seq_id=seq.id\n",
    "    sequence=seq.seq\n",
    "    gc_content=GC(sequence)\n",
    "    gc_content=round(gc_content,2)\n",
    "    \n",
    "    seq_ids.append(seq_id)\n",
    "    gc_contents.append(gc_content)\n",
    "    \n",
    "df=pd.DataFrame()\n",
    "df['Sequence_ID']=seq_ids\n",
    "df['GC_Content']=gc_contents\n",
    "\n",
    "df.GC_Content.hist(bins=100, color='#E31B1B', range=(0, 100))"
   ]
  },
  {
   "cell_type": "code",
   "execution_count": 49,
   "metadata": {},
   "outputs": [
    {
     "data": {
      "text/plain": [
       "<matplotlib.axes._subplots.AxesSubplot at 0x1a1daf8518>"
      ]
     },
     "execution_count": 49,
     "metadata": {},
     "output_type": "execute_result"
    },
    {
     "data": {
      "image/png": "[encoded data removed]",
      "text/plain": [
       "<Figure size 432x288 with 1 Axes>"
      ]
     },
     "metadata": {
      "needs_background": "light"
     },
     "output_type": "display_data"
    }
   ],
   "source": [
    "filepath='contigs_V_top10pc_seq.fasta'\n",
    "seq_objects=SeqIO.parse(filepath,'fasta')\n",
    "sequences=[seq for seq in seq_objects]\n",
    "number_of_sequences=len(sequences)\n",
    "\n",
    "seq_ids=[]\n",
    "gc_contents=[]\n",
    "\n",
    "for seq in sequences:\n",
    "    seq_id=seq.id\n",
    "    sequence=seq.seq\n",
    "    gc_content=GC(sequence)\n",
    "    gc_content=round(gc_content,2)\n",
    "    \n",
    "    seq_ids.append(seq_id)\n",
    "    gc_contents.append(gc_content)\n",
    "    \n",
    "df=pd.DataFrame()\n",
    "df['Sequence_ID']=seq_ids\n",
    "df['GC_Content']=gc_contents\n",
    "\n",
    "df.GC_Content.hist(bins=100, color='#5A9B43', range=(0, 100))"
   ]
  },
  {
   "cell_type": "code",
   "execution_count": 35,
   "metadata": {},
   "outputs": [
    {
     "data": {
      "image/png": "[encoded data removed]",
      "text/plain": [
       "<Figure size 432x288 with 1 Axes>"
      ]
     },
     "metadata": {
      "needs_background": "light"
     },
     "output_type": "display_data"
    }
   ],
   "source": [
    "generator = SeqIO.parse(\"N_top10_seq.fasta\",\"fasta\")\n",
    "sizes = [len(rec) for rec in SeqIO.parse(\"N_top10_seq.fasta\", \"fasta\")]\n",
    "df = pd.Series(sizes)\n",
    "plt = df.hist(bins=50, color='#E31B1B', range=(0, 100))"
   ]
  },
  {
   "cell_type": "code",
   "execution_count": 50,
   "metadata": {},
   "outputs": [
    {
     "data": {
      "text/plain": [
       "<matplotlib.axes._subplots.AxesSubplot at 0x1a1baeaac8>"
      ]
     },
     "execution_count": 50,
     "metadata": {},
     "output_type": "execute_result"
    },
    {
     "data": {
      "image/png": "[encoded data removed]",
      "text/plain": [
       "<Figure size 432x288 with 1 Axes>"
      ]
     },
     "metadata": {
      "needs_background": "light"
     },
     "output_type": "display_data"
    }
   ],
   "source": [
    "generator = SeqIO.parse(\"V_top10_seq.fasta\",\"fasta\")\n",
    "sizes = [len(rec) for rec in SeqIO.parse(\"V_top10_seq.fasta\", \"fasta\")]\n",
    "df = pd.Series(sizes)\n",
    "df.hist(bins=50, color='#5A9B43', range=(0, 100))"
   ]
  },
  {
   "cell_type": "code",
   "execution_count": 16,
   "metadata": {},
   "outputs": [
    {
     "name": "stdout",
     "output_type": "stream",
     "text": [
      "The history saving thread hit an unexpected error (OperationalError('database or disk is full')).History will not be written to the database.\n"
     ]
    },
    {
     "data": {
      "text/plain": [
       "<matplotlib.axes._subplots.AxesSubplot at 0x1a1e084b70>"
      ]
     },
     "execution_count": 16,
     "metadata": {},
     "output_type": "execute_result"
    },
    {
     "data": {
      "image/png": "[encoded data removed]",
      "text/plain": [
       "<Figure size 432x288 with 1 Axes>"
      ]
     },
     "metadata": {
      "needs_background": "light"
     },
     "output_type": "display_data"
    }
   ],
   "source": [
    "generator = SeqIO.parse(\"contigs_N_top10pc_seq.fasta\",\"fasta\")\n",
    "sizes = [len(rec) for rec in SeqIO.parse(\"contigs_N_top10pc_seq.fasta\", \"fasta\")]\n",
    "df = pd.Series(sizes)\n",
    "df.hist(bins=50, color='#E31B1B')"
   ]
  },
  {
   "cell_type": "code",
   "execution_count": 55,
   "metadata": {},
   "outputs": [
    {
     "data": {
      "text/plain": [
       "<matplotlib.axes._subplots.AxesSubplot at 0x1a1d3c6518>"
      ]
     },
     "execution_count": 55,
     "metadata": {},
     "output_type": "execute_result"
    },
    {
     "data": {
      "image/png": "[encoded data removed]",
      "text/plain": [
       "<Figure size 432x288 with 1 Axes>"
      ]
     },
     "metadata": {
      "needs_background": "light"
     },
     "output_type": "display_data"
    }
   ],
   "source": [
    "generator = SeqIO.parse(\"contigs_V_top10pc_seq.fasta\",\"fasta\")\n",
    "sizes = [len(rec) for rec in SeqIO.parse(\"contigs_V_top10pc_seq.fasta\", \"fasta\")]\n",
    "df = pd.Series(sizes)\n",
    "df.hist(bins=50, color='#5A9B43')"
   ]
  },
  {
   "cell_type": "markdown",
   "metadata": {},
   "source": [
    "Нормируем GC контигов и повторов на покрытие"
   ]
  },
  {
   "cell_type": "code",
   "execution_count": 23,
   "metadata": {},
   "outputs": [],
   "source": [
    "def make_repeat_df(filename):\n",
    "    df = pd.read_csv(filename, sep='\\t', header=None)\n",
    "    df['GC'] = df[4].apply(lambda x: GC(x))\n",
    "    df.drop([0], axis=1, inplace=True)\n",
    "    df.drop([1], axis=1, inplace=True)\n",
    "    df.drop([3], axis=1, inplace=True)\n",
    "    df.drop([4], axis=1, inplace=True)\n",
    "    df.rename(columns={2:'Coverage'}, inplace=True)\n",
    "    return df"
   ]
  },
  {
   "cell_type": "code",
   "execution_count": 24,
   "metadata": {},
   "outputs": [],
   "source": [
    "def make_contig_df(filename):\n",
    "    coverage_list = []\n",
    "    gc_list = []\n",
    "    for r in SeqIO.parse(filename, \"fasta\"):\n",
    "        coverage = r.description.split()[1].split('-')[1]\n",
    "        coverage_list.append(coverage)\n",
    "        gc_content = GC(r.seq)\n",
    "        gc_list.append(gc_content)\n",
    "    df = pd.DataFrame(list(zip(coverage_list, gc_list)))\n",
    "    df.rename(columns={0:'Coverage', 1:'GC'}, inplace=True)\n",
    "    return df"
   ]
  },
  {
   "cell_type": "code",
   "execution_count": 25,
   "metadata": {},
   "outputs": [],
   "source": [
    "def make_gc_barplot(gc_table):\n",
    "    gc_table['GC_r'] = gc_table['GC'].apply(np.int)\n",
    "    gc_table_group = gc_table.groupby(by=['GC_r']).agg(np.sum)\n",
    "    gc_table_group.rename(columns={'GC':'Sum coverage'}, inplace=True)\n",
    "    gc_table_group['GC'] = gc_table_group.index\n",
    "    full_gc_range = set([i for i in range(101)])\n",
    "    gc_range = set(gc_table_group['GC'])\n",
    "    missing_range = full_gc_range.difference(gc_range)\n",
    "    missing_range_df = pd.DataFrame(list(zip([0]*len(missing_range), list(missing_range))))\n",
    "    missing_range_df.rename(columns={0:'Sum coverage', 1:'GC'}, inplace=True)\n",
    "    return pd.concat([gc_table_group, missing_range_df]).sort_values(by=['GC'])"
   ]
  },
  {
   "cell_type": "code",
   "execution_count": 43,
   "metadata": {},
   "outputs": [
    {
     "data": {
      "text/html": [
       "<div>\n",
       "<style scoped>\n",
       "    .dataframe tbody tr th:only-of-type {\n",
       "        vertical-align: middle;\n",
       "    }\n",
       "\n",
       "    .dataframe tbody tr th {\n",
       "        vertical-align: top;\n",
       "    }\n",
       "\n",
       "    .dataframe thead th {\n",
       "        text-align: right;\n",
       "    }\n",
       "</style>\n",
       "<table border=\"1\" class=\"dataframe\">\n",
       "  <thead>\n",
       "    <tr style=\"text-align: right;\">\n",
       "      <th></th>\n",
       "      <th>Sum coverage</th>\n",
       "      <th>GC</th>\n",
       "    </tr>\n",
       "  </thead>\n",
       "  <tbody>\n",
       "    <tr>\n",
       "      <th>0</th>\n",
       "      <td>0.0</td>\n",
       "      <td>0</td>\n",
       "    </tr>\n",
       "    <tr>\n",
       "      <th>1</th>\n",
       "      <td>0.0</td>\n",
       "      <td>1</td>\n",
       "    </tr>\n",
       "  </tbody>\n",
       "</table>\n",
       "</div>"
      ],
      "text/plain": [
       "   Sum coverage  GC\n",
       "0           0.0   0\n",
       "1           0.0   1"
      ]
     },
     "execution_count": 43,
     "metadata": {},
     "output_type": "execute_result"
    }
   ],
   "source": [
    "df_contig_n = make_contig_df('contigs_N_top10pc_seq.fasta')\n",
    "df_hist_n = make_gc_barplot(df_contig_n)\n",
    "df_hist_n.head(2)"
   ]
  },
  {
   "cell_type": "code",
   "execution_count": 65,
   "metadata": {},
   "outputs": [
    {
     "data": {
      "text/html": [
       "<div>\n",
       "<style scoped>\n",
       "    .dataframe tbody tr th:only-of-type {\n",
       "        vertical-align: middle;\n",
       "    }\n",
       "\n",
       "    .dataframe tbody tr th {\n",
       "        vertical-align: top;\n",
       "    }\n",
       "\n",
       "    .dataframe thead th {\n",
       "        text-align: right;\n",
       "    }\n",
       "</style>\n",
       "<table border=\"1\" class=\"dataframe\">\n",
       "  <thead>\n",
       "    <tr style=\"text-align: right;\">\n",
       "      <th></th>\n",
       "      <th>Sum coverage</th>\n",
       "      <th>GC</th>\n",
       "    </tr>\n",
       "  </thead>\n",
       "  <tbody>\n",
       "    <tr>\n",
       "      <th>count</th>\n",
       "      <td>101.000000</td>\n",
       "      <td>101.000000</td>\n",
       "    </tr>\n",
       "    <tr>\n",
       "      <th>mean</th>\n",
       "      <td>796.474563</td>\n",
       "      <td>50.000000</td>\n",
       "    </tr>\n",
       "    <tr>\n",
       "      <th>std</th>\n",
       "      <td>1587.783253</td>\n",
       "      <td>29.300171</td>\n",
       "    </tr>\n",
       "    <tr>\n",
       "      <th>min</th>\n",
       "      <td>0.000000</td>\n",
       "      <td>0.000000</td>\n",
       "    </tr>\n",
       "    <tr>\n",
       "      <th>25%</th>\n",
       "      <td>0.000000</td>\n",
       "      <td>25.000000</td>\n",
       "    </tr>\n",
       "    <tr>\n",
       "      <th>50%</th>\n",
       "      <td>0.000000</td>\n",
       "      <td>50.000000</td>\n",
       "    </tr>\n",
       "    <tr>\n",
       "      <th>75%</th>\n",
       "      <td>499.185231</td>\n",
       "      <td>75.000000</td>\n",
       "    </tr>\n",
       "    <tr>\n",
       "      <th>max</th>\n",
       "      <td>5695.407194</td>\n",
       "      <td>100.000000</td>\n",
       "    </tr>\n",
       "  </tbody>\n",
       "</table>\n",
       "</div>"
      ],
      "text/plain": [
       "       Sum coverage          GC\n",
       "count    101.000000  101.000000\n",
       "mean     796.474563   50.000000\n",
       "std     1587.783253   29.300171\n",
       "min        0.000000    0.000000\n",
       "25%        0.000000   25.000000\n",
       "50%        0.000000   50.000000\n",
       "75%      499.185231   75.000000\n",
       "max     5695.407194  100.000000"
      ]
     },
     "execution_count": 65,
     "metadata": {},
     "output_type": "execute_result"
    }
   ],
   "source": [
    "df_hist_n.describe()"
   ]
  },
  {
   "cell_type": "code",
   "execution_count": 27,
   "metadata": {},
   "outputs": [
    {
     "data": {
      "image/png": "[encoded data removed]",
      "text/plain": [
       "<Figure size 432x288 with 1 Axes>"
      ]
     },
     "metadata": {
      "needs_background": "light"
     },
     "output_type": "display_data"
    }
   ],
   "source": [
    "#N_contigs\n",
    "df_contig_n = make_contig_df('contigs_N_top10pc_seq.fasta')\n",
    "df_hist_n = make_gc_barplot(df_contig_n)\n",
    "df_hist_n.plot.bar(x='GC', y='Sum coverage', width=1, color='#E31B1B')\n",
    "plt.xticks([0, 10, 20, 30, 40, 44, 50, 60, 70, 80, 90, 100], [0, 10, 20, 30, 40, 44, 50, 60, 70, 80, 90, 100])\n",
    "#plt.xticks(np.arange(11) * 10, [str(i) for i in np.arange(11) * 10])\n",
    "#plt.xaxis.set_ticks(np.arange(0, 101, 10))\n",
    "plt.tick_params(axis='x', rotation=0)\n",
    "#plt.spines['top'].set_visible(False)\n",
    "#plt.spines['right'].set_visible(False)\n",
    "plt.axvline(x=44, color='black')\n",
    "sns.despine()\n",
    "#plt.axvline(x=58, color='black')\n",
    "#plt.savefig('N_cont_norm.png', dpi=200)"
   ]
  },
  {
   "cell_type": "code",
   "execution_count": 29,
   "metadata": {},
   "outputs": [
    {
     "name": "stderr",
     "output_type": "stream",
     "text": [
      "//anaconda3/lib/python3.7/site-packages/ipykernel_launcher.py:11: FutureWarning: Sorting because non-concatenation axis is not aligned. A future version\n",
      "of pandas will change to not sort by default.\n",
      "\n",
      "To accept the future behavior, pass 'sort=False'.\n",
      "\n",
      "To retain the current behavior and silence the warning, pass 'sort=True'.\n",
      "\n",
      "  # This is added back by InteractiveShellApp.init_path()\n"
     ]
    },
    {
     "data": {
      "image/png": "[encoded data removed]",
      "text/plain": [
       "<Figure size 432x288 with 1 Axes>"
      ]
     },
     "metadata": {
      "needs_background": "light"
     },
     "output_type": "display_data"
    }
   ],
   "source": [
    "#N_repeat\n",
    "df_repeat_n = make_repeat_df('N_top10pc_tab_bycol.tsv')\n",
    "df_repeat_n.head(2)\n",
    "df_hist_n = make_gc_barplot(df_repeat_n)\n",
    "df_hist_n.plot.bar(x='GC', y='Sum coverage', width=1, color='#E31B1B')\n",
    "plt.xticks([0, 10, 20, 30, 40, 44, 50, 60, 70, 80, 90, 100], [0, 10, 20, 30, 40, 44, 50, 60, 70, 80, 90, 100])\n",
    "plt.tick_params(axis='x', rotation=0)\n",
    "plt.axvline(x=44, color='black')\n",
    "sns.despine()\n",
    "#plt.axvline(x=46, csolor='black')\n",
    "#plt.axvline(x=58, color='black')\n",
    "#plt.savefig('N_repeat_norm.png', dpi=200)"
   ]
  },
  {
   "cell_type": "code",
   "execution_count": 30,
   "metadata": {},
   "outputs": [
    {
     "data": {
      "image/png": "[encoded data removed]",
      "text/plain": [
       "<Figure size 432x288 with 1 Axes>"
      ]
     },
     "metadata": {
      "needs_background": "light"
     },
     "output_type": "display_data"
    }
   ],
   "source": [
    "#V_contigs\n",
    "df_contig_v = make_contig_df('contigs_V_top10pc_seq.fasta')\n",
    "df_hist_v = make_gc_barplot(df_contig_v)\n",
    "df_hist_v.plot.bar(x='GC', y='Sum coverage', width=1, color='#5A9B43')\n",
    "plt.xticks([0, 10, 20, 30, 40, 46, 50, 56, 60, 70, 80, 90, 100], [0, 10, 20, 30, 40, 46, 50, 56, 60, 70, 80, 90, 100])\n",
    "plt.tick_params(axis='x', rotation=0)\n",
    "plt.axvline(x=46, color='black')\n",
    "plt.axvline(x=56, color='black')\n",
    "sns.despine()\n",
    "#plt.savefig('V_cont_norm.png', dpi=200)"
   ]
  },
  {
   "cell_type": "code",
   "execution_count": 31,
   "metadata": {},
   "outputs": [
    {
     "name": "stderr",
     "output_type": "stream",
     "text": [
      "//anaconda3/lib/python3.7/site-packages/ipykernel_launcher.py:11: FutureWarning: Sorting because non-concatenation axis is not aligned. A future version\n",
      "of pandas will change to not sort by default.\n",
      "\n",
      "To accept the future behavior, pass 'sort=False'.\n",
      "\n",
      "To retain the current behavior and silence the warning, pass 'sort=True'.\n",
      "\n",
      "  # This is added back by InteractiveShellApp.init_path()\n"
     ]
    },
    {
     "data": {
      "image/png": "[encoded data removed]",
      "text/plain": [
       "<Figure size 432x288 with 1 Axes>"
      ]
     },
     "metadata": {
      "needs_background": "light"
     },
     "output_type": "display_data"
    }
   ],
   "source": [
    "#V_repeat\n",
    "df_repeat_v = make_repeat_df('V_top10pc_tab_bycol.tsv')\n",
    "df_hist_v = make_gc_barplot(df_repeat_v)\n",
    "df_hist_v.plot.bar(x='GC', y='Sum coverage', width=1, color='#5A9B43')\n",
    "plt.xticks([0, 10, 20, 30, 40, 46, 50, 56, 60, 70, 80, 90, 100], [0, 10, 20, 30, 40, 46, 50, 56, 60, 70, 80, 90, 100])\n",
    "plt.tick_params(axis='x', rotation=0)\n",
    "plt.axvline(x=46, color='black')\n",
    "plt.axvline(x=56, color='black')\n",
    "sns.despine()\n",
    "#plt.savefig('V_repeats_norm.png', dpi=200)"
   ]
  }
 ],
 "metadata": {
  "kernelspec": {
   "display_name": "Python 3",
   "language": "python",
   "name": "python3"
  },
  "language_info": {
   "codemirror_mode": {
    "name": "ipython",
    "version": 3
   },
   "file_extension": ".py",
   "mimetype": "text/x-python",
   "name": "python",
   "nbconvert_exporter": "python",
   "pygments_lexer": "ipython3",
   "version": "3.7.3"
  }
 },
 "nbformat": 4,
 "nbformat_minor": 2
}
